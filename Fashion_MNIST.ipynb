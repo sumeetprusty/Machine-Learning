{
  "nbformat": 4,
  "nbformat_minor": 0,
  "metadata": {
    "colab": {
      "provenance": []
    },
    "kernelspec": {
      "name": "python3",
      "display_name": "Python 3"
    },
    "language_info": {
      "name": "python"
    }
  },
  "cells": [
    {
      "cell_type": "markdown",
      "source": [],
      "metadata": {
        "id": "-Ue4Es9CwNpT"
      }
    },
    {
      "cell_type": "code",
      "execution_count": null,
      "metadata": {
        "id": "laU02hRChldl"
      },
      "outputs": [],
      "source": [
        "import tensorflow as tf\n",
        "image_data=tf.keras.datasets.fashion_mnist"
      ]
    },
    {
      "cell_type": "code",
      "source": [
        "(train_images,train_labels),(test_images,test_labels) = image_data.load_data()\n",
        "import matplotlib.pyplot as plt\n",
        "plt.imshow(train_images[400])\n",
        "train_labels[400]\n"
      ],
      "metadata": {
        "colab": {
          "base_uri": "https://localhost:8080/",
          "height": 586
        },
        "id": "QxTAXn4NiTr_",
        "outputId": "5db333cf-fd3c-42b0-da2a-009e837b6c3e"
      },
      "execution_count": null,
      "outputs": [
        {
          "output_type": "stream",
          "name": "stdout",
          "text": [
            "Downloading data from https://storage.googleapis.com/tensorflow/tf-keras-datasets/train-labels-idx1-ubyte.gz\n",
            "29515/29515 [==============================] - 0s 0us/step\n",
            "Downloading data from https://storage.googleapis.com/tensorflow/tf-keras-datasets/train-images-idx3-ubyte.gz\n",
            "26421880/26421880 [==============================] - 0s 0us/step\n",
            "Downloading data from https://storage.googleapis.com/tensorflow/tf-keras-datasets/t10k-labels-idx1-ubyte.gz\n",
            "5148/5148 [==============================] - 0s 0us/step\n",
            "Downloading data from https://storage.googleapis.com/tensorflow/tf-keras-datasets/t10k-images-idx3-ubyte.gz\n",
            "4422102/4422102 [==============================] - 0s 0us/step\n"
          ]
        },
        {
          "output_type": "execute_result",
          "data": {
            "text/plain": [
              "2"
            ]
          },
          "metadata": {},
          "execution_count": 3
        },
        {
          "output_type": "display_data",
          "data": {
            "text/plain": [
              "<Figure size 640x480 with 1 Axes>"
            ],
            "image/png": "[encoded data removed]"
          },
          "metadata": {}
        }
      ]
    },
    {
      "cell_type": "code",
      "source": [
        "train_images=train_images/255.0\n",
        "test_images=test_images/255.0\n",
        "train_images[400]"
      ],
      "metadata": {
        "colab": {
          "base_uri": "https://localhost:8080/"
        },
        "id": "ZBYusV82i3iP",
        "outputId": "527140af-784c-4843-dff4-354bf44fff4b"
      },
      "execution_count": null,
      "outputs": [
        {
          "output_type": "execute_result",
          "data": {
            "text/plain": [
              "array([[0.        , 0.        , 0.        , 0.        , 0.        ,\n",
              "        0.        , 0.        , 0.0745098 , 0.12156863, 0.27843137,\n",
              "        0.56862745, 0.46666667, 0.27843137, 0.21176471, 0.27058824,\n",
              "        0.30980392, 0.47843137, 0.48235294, 0.18823529, 0.10980392,\n",
              "        0.        , 0.        , 0.        , 0.        , 0.        ,\n",
              "        0.        , 0.        , 0.        ],\n",
              "       [0.        , 0.        , 0.        , 0.        , 0.        ,\n",
              "        0.        , 0.1372549 , 0.24313725, 0.18823529, 0.12156863,\n",
              "        0.29411765, 0.6745098 , 0.80784314, 0.54509804, 0.4745098 ,\n",
              "        0.74509804, 0.53333333, 0.18823529, 0.1372549 , 0.21176471,\n",
              "        0.27843137, 0.04313725, 0.        , 0.        , 0.        ,\n",
              "        0.        , 0.        , 0.        ],\n",
              "       [0.        , 0.        , 0.        , 0.        , 0.        ,\n",
              "        0.03529412, 0.27058824, 0.16078431, 0.15294118, 0.16470588,\n",
              "        0.09411765, 0.        , 0.09803922, 0.18431373, 0.15294118,\n",
              "        0.04705882, 0.01568627, 0.1254902 , 0.18431373, 0.17254902,\n",
              "        0.23921569, 0.23137255, 0.        , 0.        , 0.        ,\n",
              "        0.        , 0.        , 0.        ],\n",
              "       [0.        , 0.        , 0.        , 0.        , 0.        ,\n",
              "        0.14509804, 0.23137255, 0.14901961, 0.16078431, 0.14509804,\n",
              "        0.16470588, 0.16470588, 0.14509804, 0.10588235, 0.1254902 ,\n",
              "        0.15294118, 0.18823529, 0.18823529, 0.19215686, 0.16470588,\n",
              "        0.16470588, 0.24313725, 0.08235294, 0.        , 0.        ,\n",
              "        0.        , 0.        , 0.        ],\n",
              "       [0.        , 0.        , 0.        , 0.        , 0.        ,\n",
              "        0.21176471, 0.23137255, 0.16078431, 0.21176471, 0.15294118,\n",
              "        0.11372549, 0.11372549, 0.11372549, 0.13333333, 0.11372549,\n",
              "        0.12156863, 0.08235294, 0.10980392, 0.10588235, 0.19215686,\n",
              "        0.20392157, 0.25098039, 0.1254902 , 0.        , 0.        ,\n",
              "        0.        , 0.        , 0.        ],\n",
              "       [0.        , 0.        , 0.        , 0.        , 0.        ,\n",
              "        0.23921569, 0.23137255, 0.15294118, 0.13333333, 0.09411765,\n",
              "        0.04313725, 0.05490196, 0.05490196, 0.11372549, 0.0745098 ,\n",
              "        0.05882353, 0.05882353, 0.08235294, 0.08627451, 0.2       ,\n",
              "        0.27843137, 0.25882353, 0.17254902, 0.        , 0.        ,\n",
              "        0.        , 0.        , 0.        ],\n",
              "       [0.        , 0.        , 0.        , 0.        , 0.        ,\n",
              "        0.27058824, 0.24313725, 0.04313725, 0.25098039, 0.2       ,\n",
              "        0.05490196, 0.13333333, 0.09803922, 0.11372549, 0.09411765,\n",
              "        0.13333333, 0.13333333, 0.0745098 , 0.13333333, 0.25098039,\n",
              "        0.35686275, 0.26666667, 0.24313725, 0.        , 0.        ,\n",
              "        0.        , 0.        , 0.        ],\n",
              "       [0.        , 0.        , 0.        , 0.        , 0.06666667,\n",
              "        0.33333333, 0.14509804, 0.47843137, 0.83529412, 0.07058824,\n",
              "        0.21176471, 0.20392157, 0.21176471, 0.15294118, 0.18823529,\n",
              "        0.22745098, 0.2       , 0.20392157, 0.12156863, 0.43921569,\n",
              "        0.48235294, 0.26666667, 0.23137255, 0.01568627, 0.        ,\n",
              "        0.        , 0.        , 0.        ],\n",
              "       [0.        , 0.        , 0.        , 0.        , 0.08627451,\n",
              "        0.34509804, 0.16078431, 0.61176471, 0.27058824, 0.20392157,\n",
              "        0.23921569, 0.18431373, 0.20392157, 0.22745098, 0.20392157,\n",
              "        0.20392157, 0.16470588, 0.34901961, 0.13333333, 0.46666667,\n",
              "        0.58039216, 0.25098039, 0.23921569, 0.0745098 , 0.        ,\n",
              "        0.        , 0.        , 0.        ],\n",
              "       [0.        , 0.        , 0.        , 0.        , 0.1372549 ,\n",
              "        0.34901961, 0.3372549 , 0.56078431, 0.        , 0.30588235,\n",
              "        0.20392157, 0.21568627, 0.2       , 0.18823529, 0.17647059,\n",
              "        0.21568627, 0.1372549 , 0.32156863, 0.25882353, 0.16470588,\n",
              "        0.79215686, 0.21568627, 0.27843137, 0.10588235, 0.        ,\n",
              "        0.        , 0.        , 0.        ],\n",
              "       [0.        , 0.        , 0.        , 0.        , 0.17254902,\n",
              "        0.33333333, 0.44313725, 0.7372549 , 0.        , 0.31764706,\n",
              "        0.17254902, 0.20392157, 0.19215686, 0.19215686, 0.18823529,\n",
              "        0.22745098, 0.18431373, 0.25098039, 0.40392157, 0.21568627,\n",
              "        1.        , 0.27843137, 0.36862745, 0.14509804, 0.        ,\n",
              "        0.        , 0.        , 0.        ],\n",
              "       [0.        , 0.        , 0.        , 0.        , 0.20392157,\n",
              "        0.39607843, 0.46666667, 0.46666667, 0.        , 0.28235294,\n",
              "        0.17647059, 0.19215686, 0.21176471, 0.2       , 0.18823529,\n",
              "        0.20392157, 0.20392157, 0.12156863, 0.47843137, 0.        ,\n",
              "        0.91372549, 0.30588235, 0.37254902, 0.19215686, 0.        ,\n",
              "        0.        , 0.        , 0.        ],\n",
              "       [0.        , 0.        , 0.        , 0.        , 0.25098039,\n",
              "        0.42352941, 0.39607843, 0.22745098, 0.        , 0.25098039,\n",
              "        0.20392157, 0.21960784, 0.21568627, 0.21176471, 0.20392157,\n",
              "        0.20392157, 0.23137255, 0.11372549, 0.4745098 , 0.01568627,\n",
              "        0.52156863, 0.29411765, 0.38823529, 0.25098039, 0.        ,\n",
              "        0.        , 0.        , 0.        ],\n",
              "       [0.        , 0.        , 0.        , 0.        , 0.26666667,\n",
              "        0.37254902, 0.41176471, 0.36862745, 0.09411765, 0.22745098,\n",
              "        0.21960784, 0.21176471, 0.21176471, 0.22745098, 0.21960784,\n",
              "        0.21568627, 0.22745098, 0.18431373, 0.32941176, 0.12156863,\n",
              "        0.29803922, 0.45490196, 0.43921569, 0.23137255, 0.        ,\n",
              "        0.        , 0.        , 0.        ],\n",
              "       [0.        , 0.        , 0.        , 0.        , 0.34901961,\n",
              "        0.36078431, 0.44313725, 0.52156863, 0.        , 0.25882353,\n",
              "        0.23137255, 0.2       , 0.21568627, 0.23137255, 0.21960784,\n",
              "        0.21176471, 0.2       , 0.21568627, 0.21176471, 0.19215686,\n",
              "        0.45098039, 0.54117647, 0.44313725, 0.24313725, 0.01960784,\n",
              "        0.        , 0.        , 0.        ],\n",
              "       [0.        , 0.        , 0.        , 0.00784314, 0.34509804,\n",
              "        0.39607843, 0.50588235, 0.43529412, 0.        , 0.30588235,\n",
              "        0.22745098, 0.21568627, 0.21176471, 0.21568627, 0.21960784,\n",
              "        0.21176471, 0.20392157, 0.23137255, 0.22745098, 0.2       ,\n",
              "        0.10980392, 0.57254902, 0.4745098 , 0.23137255, 0.03529412,\n",
              "        0.        , 0.        , 0.        ],\n",
              "       [0.        , 0.        , 0.        , 0.02745098, 0.29411765,\n",
              "        0.54117647, 0.55294118, 0.2       , 0.0745098 , 0.25882353,\n",
              "        0.24313725, 0.21176471, 0.23921569, 0.22745098, 0.21960784,\n",
              "        0.21960784, 0.21568627, 0.21960784, 0.23137255, 0.14901961,\n",
              "        0.        , 0.6       , 0.46666667, 0.25490196, 0.05882353,\n",
              "        0.        , 0.        , 0.        ],\n",
              "       [0.        , 0.        , 0.        , 0.07058824, 0.25098039,\n",
              "        0.55294118, 0.55294118, 0.02745098, 0.14509804, 0.23921569,\n",
              "        0.23137255, 0.19215686, 0.23921569, 0.21960784, 0.21176471,\n",
              "        0.21960784, 0.21568627, 0.20392157, 0.22745098, 0.20392157,\n",
              "        0.        , 0.83137255, 0.48235294, 0.29019608, 0.05882353,\n",
              "        0.        , 0.        , 0.        ],\n",
              "       [0.        , 0.        , 0.        , 0.08627451, 0.22745098,\n",
              "        0.57254902, 0.69019608, 0.03529412, 0.16470588, 0.23921569,\n",
              "        0.21176471, 0.21568627, 0.22745098, 0.22745098, 0.23137255,\n",
              "        0.23921569, 0.25098039, 0.23921569, 0.23921569, 0.28235294,\n",
              "        0.        , 0.41176471, 0.56078431, 0.29411765, 0.07058824,\n",
              "        0.        , 0.        , 0.        ],\n",
              "       [0.        , 0.        , 0.        , 0.1254902 , 0.18823529,\n",
              "        0.63529412, 0.74117647, 0.        , 0.21568627, 0.26666667,\n",
              "        0.24313725, 0.23921569, 0.20392157, 0.25490196, 0.27058824,\n",
              "        0.23921569, 0.24313725, 0.26666667, 0.21568627, 0.25098039,\n",
              "        0.02745098, 0.22745098, 0.62745098, 0.23921569, 0.0745098 ,\n",
              "        0.        , 0.        , 0.        ],\n",
              "       [0.        , 0.        , 0.        , 0.10980392, 0.15294118,\n",
              "        0.63921569, 0.62745098, 0.        , 0.20392157, 0.21568627,\n",
              "        0.24313725, 0.25098039, 0.2       , 0.21960784, 0.22745098,\n",
              "        0.20392157, 0.18823529, 0.23137255, 0.20392157, 0.22745098,\n",
              "        0.09411765, 0.23137255, 0.62745098, 0.23921569, 0.10980392,\n",
              "        0.        , 0.        , 0.        ],\n",
              "       [0.        , 0.        , 0.        , 0.12156863, 0.16078431,\n",
              "        0.65882353, 0.55294118, 0.        , 0.32941176, 0.25882353,\n",
              "        0.23137255, 0.25882353, 0.25490196, 0.25882353, 0.25882353,\n",
              "        0.29803922, 0.27843137, 0.28235294, 0.32156863, 0.33333333,\n",
              "        0.08627451, 0.16078431, 0.58431373, 0.22745098, 0.09803922,\n",
              "        0.        , 0.        , 0.        ],\n",
              "       [0.        , 0.        , 0.        , 0.15294118, 0.18823529,\n",
              "        0.66666667, 0.54509804, 0.        , 0.49019608, 0.38431373,\n",
              "        0.38823529, 0.4       , 0.41568627, 0.40392157, 0.38823529,\n",
              "        0.40392157, 0.37254902, 0.37647059, 0.37647059, 0.41176471,\n",
              "        0.07058824, 0.04313725, 0.65882353, 0.29411765, 0.11372549,\n",
              "        0.        , 0.        , 0.        ],\n",
              "       [0.        , 0.        , 0.        , 0.16078431, 0.18431373,\n",
              "        0.6745098 , 0.42352941, 0.00392157, 0.32156863, 0.32156863,\n",
              "        0.38823529, 0.39607843, 0.37647059, 0.4       , 0.38823529,\n",
              "        0.38431373, 0.36078431, 0.34509804, 0.33333333, 0.36078431,\n",
              "        0.09411765, 0.        , 0.57254902, 0.33333333, 0.10980392,\n",
              "        0.        , 0.        , 0.        ],\n",
              "       [0.        , 0.        , 0.        , 0.14509804, 0.17647059,\n",
              "        0.64705882, 0.28235294, 0.        , 0.        , 0.        ,\n",
              "        0.        , 0.        , 0.        , 0.        , 0.        ,\n",
              "        0.        , 0.        , 0.        , 0.        , 0.        ,\n",
              "        0.        , 0.        , 0.51764706, 0.25882353, 0.1372549 ,\n",
              "        0.        , 0.        , 0.        ],\n",
              "       [0.        , 0.        , 0.        , 0.21176471, 0.34509804,\n",
              "        0.64705882, 0.14901961, 0.        , 0.        , 0.        ,\n",
              "        0.        , 0.        , 0.        , 0.        , 0.        ,\n",
              "        0.        , 0.        , 0.        , 0.        , 0.        ,\n",
              "        0.        , 0.1254902 , 0.51764706, 0.36862745, 0.21960784,\n",
              "        0.        , 0.        , 0.        ],\n",
              "       [0.        , 0.        , 0.        , 0.15294118, 0.44313725,\n",
              "        0.70588235, 0.05882353, 0.        , 0.00784314, 0.        ,\n",
              "        0.        , 0.        , 0.        , 0.        , 0.        ,\n",
              "        0.        , 0.        , 0.        , 0.        , 0.00392157,\n",
              "        0.        , 0.04705882, 0.57254902, 0.41568627, 0.13333333,\n",
              "        0.        , 0.        , 0.        ],\n",
              "       [0.        , 0.        , 0.        , 0.00392157, 0.19215686,\n",
              "        0.4627451 , 0.        , 0.        , 0.00392157, 0.        ,\n",
              "        0.        , 0.        , 0.        , 0.        , 0.        ,\n",
              "        0.        , 0.        , 0.        , 0.        , 0.00392157,\n",
              "        0.        , 0.        , 0.48235294, 0.28235294, 0.03529412,\n",
              "        0.        , 0.        , 0.        ]])"
            ]
          },
          "metadata": {},
          "execution_count": 4
        }
      ]
    },
    {
      "cell_type": "code",
      "source": [
        "model=tf.keras.Sequential([\n",
        "                           tf.keras.layers.Flatten(input_shape=(28,28)),\n",
        "                           tf.keras.layers.Dense(128,activation=\"sigmoid\"),\n",
        "                           tf.keras.layers.Dense(10)\n",
        "])\n",
        "model.compile(optimizer=\"adam\",\n",
        "              loss=tf.keras.losses.SparseCategoricalCrossentropy(from_logits=True),\n",
        "              metrics=[\"accuracy\"]\n",
        "              )\n",
        "model.fit(train_images,train_labels,epochs=10)\n"
      ],
      "metadata": {
        "colab": {
          "base_uri": "https://localhost:8080/"
        },
        "id": "mbXe-GRtkrEx",
        "outputId": "69b8bd46-6017-4e12-c6e9-4ed0ada854bc"
      },
      "execution_count": null,
      "outputs": [
        {
          "output_type": "stream",
          "name": "stdout",
          "text": [
            "Epoch 1/10\n",
            "1875/1875 [==============================] - 6s 3ms/step - loss: 0.5415 - accuracy: 0.8149\n",
            "Epoch 2/10\n",
            "1875/1875 [==============================] - 5s 3ms/step - loss: 0.3900 - accuracy: 0.8604\n",
            "Epoch 3/10\n",
            "1875/1875 [==============================] - 6s 3ms/step - loss: 0.3527 - accuracy: 0.8713\n",
            "Epoch 4/10\n",
            "1875/1875 [==============================] - 5s 3ms/step - loss: 0.3288 - accuracy: 0.8797\n",
            "Epoch 5/10\n",
            "1875/1875 [==============================] - 6s 3ms/step - loss: 0.3105 - accuracy: 0.8859\n",
            "Epoch 6/10\n",
            "1875/1875 [==============================] - 5s 3ms/step - loss: 0.2955 - accuracy: 0.8911\n",
            "Epoch 7/10\n",
            "1875/1875 [==============================] - 6s 3ms/step - loss: 0.2818 - accuracy: 0.8953\n",
            "Epoch 8/10\n",
            "1875/1875 [==============================] - 6s 3ms/step - loss: 0.2709 - accuracy: 0.8993\n",
            "Epoch 9/10\n",
            "1875/1875 [==============================] - 5s 3ms/step - loss: 0.2605 - accuracy: 0.9041\n",
            "Epoch 10/10\n",
            "1875/1875 [==============================] - 6s 3ms/step - loss: 0.2510 - accuracy: 0.9076\n"
          ]
        },
        {
          "output_type": "execute_result",
          "data": {
            "text/plain": [
              "<keras.src.callbacks.History at 0x7e79c76ce110>"
            ]
          },
          "metadata": {},
          "execution_count": 5
        }
      ]
    },
    {
      "cell_type": "code",
      "source": [
        "model.predict(test_images)[0]\n",
        "test_labels[0]"
      ],
      "metadata": {
        "colab": {
          "base_uri": "https://localhost:8080/"
        },
        "id": "LXzY2b4Zm8eE",
        "outputId": "f72db689-a786-4196-f8bb-d0259b7c6db2"
      },
      "execution_count": null,
      "outputs": [
        {
          "output_type": "stream",
          "name": "stdout",
          "text": [
            "313/313 [==============================] - 1s 1ms/step\n"
          ]
        },
        {
          "output_type": "execute_result",
          "data": {
            "text/plain": [
              "9"
            ]
          },
          "metadata": {},
          "execution_count": 6
        }
      ]
    },
    {
      "cell_type": "code",
      "source": [],
      "metadata": {
        "id": "kRx3CtaYq79Z"
      },
      "execution_count": null,
      "outputs": []
    }
  ]
}